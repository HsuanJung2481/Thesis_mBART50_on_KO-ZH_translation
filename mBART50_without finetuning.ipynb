{
 "cells": [
  {
   "cell_type": "markdown",
   "metadata": {},
   "source": [
    "mBART50 - without fine-tuning (SWRC)"
   ]
  },
  {
   "cell_type": "code",
   "execution_count": null,
   "metadata": {},
   "outputs": [],
   "source": [
    "import os\n",
    "import json\n",
    "from datasets import load_dataset\n",
    "from transformers import MBartForConditionalGeneration, MBart50TokenizerFast\n",
    "import torch\n",
    "from evaluate import load\n",
    "\n",
    "# Load the test dataset\n",
    "test_dataset = load_dataset('csv', data_files='ko_zh_test_dataset_donga.csv')\n",
    "\n",
    "# Load BLEU metric\n",
    "bleu_metric = load(\"sacrebleu\")\n",
    "\n",
    "# Initialize tokenizer\n",
    "tokenizer = MBart50TokenizerFast.from_pretrained(\"facebook/mbart-large-50-many-to-many-mmt\")\n",
    "\n",
    "# Define the translation function\n",
    "def generate_translation(examples, model, max_length=200):\n",
    "    target_language_code = \"zh_CN\"\n",
    "    formatted_inputs = [f\"ko_KR {sentence} </s>\" for sentence in examples['source']]\n",
    "    encoded_inputs = tokenizer(formatted_inputs, return_tensors=\"pt\", padding=True, truncation=True, max_length=max_length)\n",
    "\n",
    "    with torch.no_grad():\n",
    "        generated_ids = model.generate(\n",
    "            input_ids=encoded_inputs['input_ids'],\n",
    "            attention_mask=encoded_inputs['attention_mask'],\n",
    "            forced_bos_token_id=tokenizer.lang_code_to_id[target_language_code]\n",
    "        )\n",
    "\n",
    "    generated_texts = tokenizer.batch_decode(generated_ids, skip_special_tokens=True)\n",
    "    return {\"generated_text\": generated_texts}\n",
    "\n",
    "# Load model\n",
    "device = 'cuda' if torch.cuda.is_available() else 'cpu'\n",
    "model = MBartForConditionalGeneration.from_pretrained(\"facebook/mbart-large-50-many-to-many-mmt\").to(device)\n",
    "\n",
    "# Generate translations and save them to a file\n",
    "with open('generated_translation_Donga_1st_checkpoint_24225_Donga.txt', 'w', encoding='utf-8') as f:\n",
    "    for idx, source in enumerate(test_dataset['train']['source']):\n",
    "        generated_translation = generate_translation({\"source\": [source]}, model)  # Add model as argument\n",
    "        f.write(generated_translation['generated_text'][0] + '\\n')  # Access the first translation\n",
    "\n",
    "        # Print progress every 100 sentences\n",
    "        if (idx + 1) % 100 == 0:\n",
    "            print(f\"Processed {idx + 1} sentences\")"
   ]
  }
 ],
 "metadata": {
  "language_info": {
   "name": "python"
  }
 },
 "nbformat": 4,
 "nbformat_minor": 2
}
